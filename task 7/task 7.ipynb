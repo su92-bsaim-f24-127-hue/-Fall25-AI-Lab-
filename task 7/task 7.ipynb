{
 "cells": [
  {
   "cell_type": "code",
   "execution_count": null,
   "id": "21c6c394",
   "metadata": {},
   "outputs": [
    {
     "name": "stdout",
     "output_type": "stream",
     "text": [
      "Path found: ['A', 'C']\n",
      "Path not found!\n"
     ]
    }
   ],
   "source": [
    "class Graph:\n",
    "    def __init__(self, adjacency_list):\n",
    "        self.adjacency_list = adjacency_list\n",
    "\n",
    "    def get_neighbors(self, v):\n",
    "        return self.adjacency_list.get(v, [])\n",
    "\n",
    "    def h(self, n):\n",
    "        H = {'A': 1, 'B': 1, 'C': 1, 'D': 1}\n",
    "        return H.get(n, float('inf'))\n",
    "\n",
    "    def a_star_algorithm(self, start_node, stop_node):\n",
    "        \n",
    "\n",
    "        open_list = set([start_node])\n",
    "        closed_list = set([])\n",
    "        g = {start_node: 0}\n",
    "        parents = {start_node: start_node}\n",
    "\n",
    "        while open_list:\n",
    "            n = None\n",
    "            for v in open_list:\n",
    "                if n is None or g[v] + self.h(v) < g[n] + self.h(n):\n",
    "                    n = v\n",
    "\n",
    "            if n is None:\n",
    "                print(\"Path not found!\")\n",
    "                return None\n",
    "\n",
    "            if n == stop_node:\n",
    "                path = []\n",
    "                while parents[n] != n:\n",
    "                    path.append(n)\n",
    "                    n = parents[n]\n",
    "                path.append(start_node)\n",
    "                path.reverse()\n",
    "                print(\"Path found:\", path)\n",
    "                return path\n",
    "\n",
    "            for (m, weight) in self.get_neighbors(n):\n",
    "                if m not in open_list and m not in closed_list:\n",
    "                    open_list.add(m)\n",
    "                    parents[m] = n\n",
    "                    g[m] = g[n] + weight\n",
    "                else:\n",
    "                    if g[m] > g[n] + weight:\n",
    "                        g[m] = g[n] + weight\n",
    "                        parents[m] = n\n",
    "                        if m in closed_list:\n",
    "                            closed_list.remove(m)\n",
    "                            open_list.add(m)\n",
    "\n",
    "            open_list.remove(n)\n",
    "            closed_list.add(n)\n",
    "\n",
    "        print(\"Path not found!\")\n",
    "        return None\n",
    "\n",
    "\n",
    "adjacency_list = {\n",
    "    'A': [('B', 1), ('C', 3), ('D', 7)],\n",
    "    'B': [('D', 5)],\n",
    "    'C': [('D', 12)],\n",
    "    'D': []\n",
    "}\n",
    "\n",
    "graph1 = Graph(adjacency_list)\n",
    "graph1.a_star_algorithm('A', 'C')\n",
    "graph1.a_star_algorithm('A', 'R')"
   ]
  }
 ],
 "metadata": {
  "kernelspec": {
   "display_name": "Python 3",
   "language": "python",
   "name": "python3"
  },
  "language_info": {
   "codemirror_mode": {
    "name": "ipython",
    "version": 3
   },
   "file_extension": ".py",
   "mimetype": "text/x-python",
   "name": "python",
   "nbconvert_exporter": "python",
   "pygments_lexer": "ipython3",
   "version": "3.13.1"
  }
 },
 "nbformat": 4,
 "nbformat_minor": 5
}
